{
 "cells": [
  {
   "cell_type": "code",
   "execution_count": 1,
   "metadata": {},
   "outputs": [],
   "source": [
    "import numpy as np\n",
    "import pandas as pd\n",
    "from sklearn import svm\n",
    "from sklearn.neighbors import KNeighborsClassifier as knn"
   ]
  },
  {
   "cell_type": "markdown",
   "metadata": {},
   "source": [
    "#LOading the datasets"
   ]
  },
  {
   "cell_type": "code",
   "execution_count": 2,
   "metadata": {},
   "outputs": [],
   "source": [
    "train=pd.read_csv('train.csv')\n",
    "test=pd.read_csv('test.csv')\n",
    "bstruct=pd.read_csv('Building_Structure.csv')\n",
    "bown=pd.read_csv('Building_Ownership_Use.csv')"
   ]
  },
  {
   "cell_type": "code",
   "execution_count": null,
   "metadata": {},
   "outputs": [],
   "source": [
    "#Mapping the object datatype to int"
   ]
  },
  {
   "cell_type": "code",
   "execution_count": 6,
   "metadata": {},
   "outputs": [],
   "source": [
    "final_data=[train,test]\n",
    "train=pd.merge(train,bstruct)\n",
    "zz=['land_surface_condition','foundation_type','roof_type','ground_floor_type','other_floor_type','position','plan_configuration','condition_post_eq']\n",
    "\n",
    "test=pd.merge(test,bstruct)\n",
    "dictionary=[]\n",
    "for col in zz:\n",
    "    key=bstruct[[col]].groupby([col]).groups.keys()\n",
    "    dctio={}\n",
    "    for c,d in enumerate(key):\n",
    "        dctio[d]=c\n",
    "    dictionary.append(dctio)\n",
    "    train[col]=train[col].map(dctio)\n",
    "    test[col]=test[col].map(dctio)\n",
    "zz=['legal_ownership_status']\n",
    "train=pd.merge(train,bown)\n",
    "test=pd.merge(test,bown)\n",
    "dictionary=[]\n",
    "for col in zz:\n",
    "    key=bown[[col]].groupby([col]).groups.keys()\n",
    "    dctio={}\n",
    "    for c,d in enumerate(key):\n",
    "        dctio[d]=c\n",
    "    dictionary.append(dctio)\n",
    "    train[col]=train[col].map(dctio)\n",
    "    test[col]=test[col].map(dctio)\n"
   ]
  },
  {
   "cell_type": "code",
   "execution_count": 7,
   "metadata": {},
   "outputs": [
    {
     "name": "stderr",
     "output_type": "stream",
     "text": [
      "C:\\ProgramData\\Anaconda2\\lib\\site-packages\\ipykernel_launcher.py:1: FutureWarning: currently extract(expand=None) means expand=False (return Index/Series/DataFrame) but in a future version of pandas this will be changed to expand=True (return DataFrame)\n",
      "  \"\"\"Entry point for launching an IPython kernel.\n"
     ]
    }
   ],
   "source": [
    "train['damage_grade']=train.damage_grade.str.extract('([\\d])')\n",
    "#test['damage_grade']=test.damage_grade.str.extract('([\\d])')\n",
    "build=test['building_id']"
   ]
  },
  {
   "cell_type": "code",
   "execution_count": 8,
   "metadata": {},
   "outputs": [
    {
     "name": "stdout",
     "output_type": "stream",
     "text": [
      "      area_assesed   building_id damage_grade  district_id  \\\n",
      "0                2   24385bfd2a2            4           24   \n",
      "1                2   405d1bbebbf            2           44   \n",
      "2                2   351d9bc71f6            1           36   \n",
      "3                3   2be3a971166            5           30   \n",
      "4                2   34c7d073ea6            3           36   \n",
      "5                1   1f54965821f            5           21   \n",
      "6                2   2beb42eaeee            2           30   \n",
      "10               1   35074b0c35f            5           36   \n",
      "13               3   355539e8f10            5           36   \n",
      "19               1  1b9136a5a0af            3           30   \n",
      "23               3   4372e823ef3            5           46   \n",
      "26               3   1d7b8343e6a            5           20   \n",
      "27               3   1f45e8dec7e            5           21   \n",
      "30               1   2c3594bef82            4           30   \n",
      "31               1   2d635dfaa18            2           31   \n",
      "98               4   217fa7d2680            5           23   \n",
      "173              4   2c01805b6b2            5           30   \n",
      "212              4  151c17a5e6ee            5           23   \n",
      "220              4   3506fec298d            5           36   \n",
      "223              4   2bc60246daf            4           30   \n",
      "338              0   1f496952426            4           21   \n",
      "1476             0   34799ecee67            4           36   \n",
      "2325             0   2d670f2b4ec            1           31   \n",
      "2682             0  1b8c82933de6            3           30   \n",
      "2900             0   23db3a20c8d            4           24   \n",
      "\n",
      "      has_geotechnical_risk  has_geotechnical_risk_fault_crack  \\\n",
      "0                       0.0                                  0   \n",
      "1                       0.0                                  0   \n",
      "2                       0.0                                  0   \n",
      "3                       0.0                                  0   \n",
      "4                       0.0                                  0   \n",
      "5                       0.0                                  0   \n",
      "6                       1.0                                  0   \n",
      "10                      0.0                                  0   \n",
      "13                      0.0                                  0   \n",
      "19                      0.0                                  0   \n",
      "23                      1.0                                  1   \n",
      "26                      0.0                                  0   \n",
      "27                      1.0                                  0   \n",
      "30                      1.0                                  0   \n",
      "31                      0.0                                  0   \n",
      "98                      1.0                                  0   \n",
      "173                     0.0                                  0   \n",
      "212                     0.0                                  0   \n",
      "220                     0.0                                  0   \n",
      "223                     0.0                                  0   \n",
      "338                     0.0                                  0   \n",
      "1476                    0.0                                  0   \n",
      "2325                    0.0                                  0   \n",
      "2682                    0.0                                  0   \n",
      "2900                    0.0                                  0   \n",
      "\n",
      "      has_geotechnical_risk_flood  has_geotechnical_risk_land_settlement  \\\n",
      "0                               0                                      0   \n",
      "1                               0                                      0   \n",
      "2                               0                                      0   \n",
      "3                               0                                      0   \n",
      "4                               0                                      0   \n",
      "5                               0                                      0   \n",
      "6                               0                                      0   \n",
      "10                              0                                      0   \n",
      "13                              0                                      0   \n",
      "19                              0                                      0   \n",
      "23                              0                                      0   \n",
      "26                              0                                      0   \n",
      "27                              0                                      0   \n",
      "30                              0                                      0   \n",
      "31                              0                                      0   \n",
      "98                              0                                      0   \n",
      "173                             0                                      0   \n",
      "212                             0                                      0   \n",
      "220                             0                                      0   \n",
      "223                             0                                      0   \n",
      "338                             0                                      0   \n",
      "1476                            0                                      0   \n",
      "2325                            0                                      0   \n",
      "2682                            0                                      0   \n",
      "2900                            0                                      0   \n",
      "\n",
      "      has_geotechnical_risk_landslide  has_geotechnical_risk_liquefaction  \\\n",
      "0                                   0                                   0   \n",
      "1                                   0                                   0   \n",
      "2                                   0                                   0   \n",
      "3                                   0                                   0   \n",
      "4                                   0                                   0   \n",
      "5                                   0                                   0   \n",
      "6                                   1                                   0   \n",
      "10                                  0                                   0   \n",
      "13                                  0                                   0   \n",
      "19                                  0                                   0   \n",
      "23                                  1                                   0   \n",
      "26                                  0                                   0   \n",
      "27                                  1                                   0   \n",
      "30                                  1                                   0   \n",
      "31                                  0                                   0   \n",
      "98                                  1                                   0   \n",
      "173                                 0                                   0   \n",
      "212                                 0                                   0   \n",
      "220                                 0                                   0   \n",
      "223                                 0                                   0   \n",
      "338                                 0                                   0   \n",
      "1476                                0                                   0   \n",
      "2325                                0                                   0   \n",
      "2682                                0                                   0   \n",
      "2900                                0                                   0   \n",
      "\n",
      "               ...             has_secondary_use_agriculture  \\\n",
      "0              ...                                         0   \n",
      "1              ...                                         0   \n",
      "2              ...                                         0   \n",
      "3              ...                                         0   \n",
      "4              ...                                         0   \n",
      "5              ...                                         0   \n",
      "6              ...                                         0   \n",
      "10             ...                                         0   \n",
      "13             ...                                         0   \n",
      "19             ...                                         0   \n",
      "23             ...                                         0   \n",
      "26             ...                                         0   \n",
      "27             ...                                         0   \n",
      "30             ...                                         0   \n",
      "31             ...                                         0   \n",
      "98             ...                                         0   \n",
      "173            ...                                         0   \n",
      "212            ...                                         0   \n",
      "220            ...                                         0   \n",
      "223            ...                                         0   \n",
      "338            ...                                         0   \n",
      "1476           ...                                         0   \n",
      "2325           ...                                         0   \n",
      "2682           ...                                         0   \n",
      "2900           ...                                         1   \n",
      "\n",
      "      has_secondary_use_hotel  has_secondary_use_rental  \\\n",
      "0                           0                         0   \n",
      "1                           1                         0   \n",
      "2                           0                         0   \n",
      "3                           0                         0   \n",
      "4                           0                         0   \n",
      "5                           0                         0   \n",
      "6                           0                         0   \n",
      "10                          0                         0   \n",
      "13                          0                         0   \n",
      "19                          0                         0   \n",
      "23                          0                         0   \n",
      "26                          0                         0   \n",
      "27                          0                         0   \n",
      "30                          0                         0   \n",
      "31                          0                         0   \n",
      "98                          0                         0   \n",
      "173                         0                         0   \n",
      "212                         0                         0   \n",
      "220                         0                         0   \n",
      "223                         0                         0   \n",
      "338                         0                         0   \n",
      "1476                        1                         0   \n",
      "2325                        0                         0   \n",
      "2682                        0                         0   \n",
      "2900                        0                         0   \n",
      "\n",
      "      has_secondary_use_institution  has_secondary_use_school  \\\n",
      "0                                 0                         0   \n",
      "1                                 0                         0   \n",
      "2                                 0                         0   \n",
      "3                                 0                         0   \n",
      "4                                 0                         0   \n",
      "5                                 0                         0   \n",
      "6                                 0                         0   \n",
      "10                                0                         0   \n",
      "13                                0                         0   \n",
      "19                                0                         0   \n",
      "23                                0                         0   \n",
      "26                                0                         0   \n",
      "27                                0                         0   \n",
      "30                                0                         0   \n",
      "31                                0                         0   \n",
      "98                                0                         0   \n",
      "173                               0                         0   \n",
      "212                               0                         0   \n",
      "220                               0                         0   \n",
      "223                               0                         0   \n",
      "338                               0                         0   \n",
      "1476                              0                         0   \n",
      "2325                              0                         0   \n",
      "2682                              0                         0   \n",
      "2900                              0                         0   \n",
      "\n",
      "      has_secondary_use_industry  has_secondary_use_health_post  \\\n",
      "0                              0                              0   \n",
      "1                              0                              0   \n",
      "2                              0                              0   \n",
      "3                              0                              0   \n",
      "4                              0                              0   \n",
      "5                              0                              0   \n",
      "6                              0                              0   \n",
      "10                             0                              0   \n",
      "13                             0                              0   \n",
      "19                             0                              0   \n",
      "23                             0                              0   \n",
      "26                             0                              0   \n",
      "27                             0                              0   \n",
      "30                             0                              0   \n",
      "31                             0                              0   \n",
      "98                             0                              0   \n",
      "173                            0                              0   \n",
      "212                            0                              0   \n",
      "220                            0                              0   \n",
      "223                            0                              0   \n",
      "338                            0                              0   \n",
      "1476                           0                              0   \n",
      "2325                           0                              0   \n",
      "2682                           0                              0   \n",
      "2900                           0                              0   \n",
      "\n",
      "      has_secondary_use_gov_office  has_secondary_use_use_police  \\\n",
      "0                                0                             0   \n",
      "1                                0                             0   \n",
      "2                                0                             0   \n",
      "3                                0                             0   \n",
      "4                                0                             0   \n",
      "5                                0                             0   \n",
      "6                                0                             0   \n",
      "10                               0                             0   \n",
      "13                               0                             0   \n",
      "19                               0                             0   \n",
      "23                               0                             0   \n",
      "26                               0                             0   \n",
      "27                               0                             0   \n",
      "30                               0                             0   \n",
      "31                               0                             0   \n",
      "98                               0                             0   \n",
      "173                              0                             0   \n",
      "212                              0                             0   \n",
      "220                              0                             0   \n",
      "223                              0                             0   \n",
      "338                              0                             0   \n",
      "1476                             0                             0   \n",
      "2325                             0                             0   \n",
      "2682                             0                             0   \n",
      "2900                             0                             0   \n",
      "\n",
      "      has_secondary_use_other  \n",
      "0                           0  \n",
      "1                           0  \n",
      "2                           0  \n",
      "3                           0  \n",
      "4                           0  \n",
      "5                           0  \n",
      "6                           0  \n",
      "10                          0  \n",
      "13                          0  \n",
      "19                          0  \n",
      "23                          0  \n",
      "26                          0  \n",
      "27                          0  \n",
      "30                          0  \n",
      "31                          0  \n",
      "98                          0  \n",
      "173                         0  \n",
      "212                         0  \n",
      "220                         0  \n",
      "223                         0  \n",
      "338                         0  \n",
      "1476                        0  \n",
      "2325                        0  \n",
      "2682                        0  \n",
      "2900                        0  \n",
      "\n",
      "[25 rows x 53 columns]\n"
     ]
    }
   ],
   "source": [
    "mapp={'Interior':0,'Exterior':1,'Both':2,'Building removed':3,'Not able to inspect':4}\n",
    "\n",
    "train['area_assesed']=train['area_assesed'].map(mapp)\n",
    "test['area_assesed']=test['area_assesed'].map(mapp)\n",
    "df=train.groupby(['area_assesed'])\n",
    "print(df.head())\n"
   ]
  },
  {
   "cell_type": "code",
   "execution_count": 9,
   "metadata": {},
   "outputs": [],
   "source": [
    "trainy=train['damage_grade']\n",
    "trainx=train.drop(['building_id','damage_grade'],1)\n",
    "test=test.drop(['building_id'],1)"
   ]
  },
  {
   "cell_type": "code",
   "execution_count": null,
   "metadata": {},
   "outputs": [],
   "source": [
    "#Fixing the NaN values"
   ]
  },
  {
   "cell_type": "code",
   "execution_count": 10,
   "metadata": {},
   "outputs": [],
   "source": [
    "from sklearn.preprocessing import Imputer\n",
    "imp=Imputer()\n",
    "trainx['count_families']=imp.fit_transform(trainx[['count_families']])\n",
    "test['count_families']=imp.fit_transform(test[['count_families']])\n",
    "trainx['has_repair_started']=imp.fit_transform(trainx[['has_repair_started']])\n",
    "test['has_repair_started']=imp.fit_transform(test[['has_repair_started']])"
   ]
  },
  {
   "cell_type": "code",
   "execution_count": 11,
   "metadata": {},
   "outputs": [
    {
     "name": "stdout",
     "output_type": "stream",
     "text": [
      "area_assesed                              False\n",
      "district_id                               False\n",
      "has_geotechnical_risk                     False\n",
      "has_geotechnical_risk_fault_crack         False\n",
      "has_geotechnical_risk_flood               False\n",
      "has_geotechnical_risk_land_settlement     False\n",
      "has_geotechnical_risk_landslide           False\n",
      "has_geotechnical_risk_liquefaction        False\n",
      "has_geotechnical_risk_other               False\n",
      "has_geotechnical_risk_rock_fall           False\n",
      "has_repair_started                        False\n",
      "vdcmun_id                                 False\n",
      "ward_id                                   False\n",
      "count_floors_pre_eq                       False\n",
      "count_floors_post_eq                      False\n",
      "age_building                              False\n",
      "plinth_area_sq_ft                         False\n",
      "height_ft_pre_eq                          False\n",
      "height_ft_post_eq                         False\n",
      "land_surface_condition                    False\n",
      "foundation_type                           False\n",
      "roof_type                                 False\n",
      "ground_floor_type                         False\n",
      "other_floor_type                          False\n",
      "position                                  False\n",
      "plan_configuration                        False\n",
      "has_superstructure_adobe_mud              False\n",
      "has_superstructure_mud_mortar_stone       False\n",
      "has_superstructure_stone_flag             False\n",
      "has_superstructure_cement_mortar_stone    False\n",
      "has_superstructure_mud_mortar_brick       False\n",
      "has_superstructure_cement_mortar_brick    False\n",
      "has_superstructure_timber                 False\n",
      "has_superstructure_bamboo                 False\n",
      "has_superstructure_rc_non_engineered      False\n",
      "has_superstructure_rc_engineered          False\n",
      "has_superstructure_other                  False\n",
      "condition_post_eq                         False\n",
      "legal_ownership_status                    False\n",
      "count_families                            False\n",
      "has_secondary_use                         False\n",
      "has_secondary_use_agriculture             False\n",
      "has_secondary_use_hotel                   False\n",
      "has_secondary_use_rental                  False\n",
      "has_secondary_use_institution             False\n",
      "has_secondary_use_school                  False\n",
      "has_secondary_use_industry                False\n",
      "has_secondary_use_health_post             False\n",
      "has_secondary_use_gov_office              False\n",
      "has_secondary_use_use_police              False\n",
      "has_secondary_use_other                   False\n",
      "dtype: bool\n"
     ]
    }
   ],
   "source": [
    "print(test.isnull().any())"
   ]
  },
  {
   "cell_type": "code",
   "execution_count": 32,
   "metadata": {},
   "outputs": [],
   "source": [
    "drop=['has_secondary_use_agriculture','has_secondary_use_hotel','has_secondary_use_rental','has_secondary_use_institution','has_secondary_use_school','has_secondary_use_industry','has_secondary_use_health_post','has_secondary_use_gov_office','has_secondary_use_use_police','has_secondary_use_other']\n",
    "trainx=trainx.drop(drop,1)\n",
    "test=test.drop(drop,1)"
   ]
  },
  {
   "cell_type": "code",
   "execution_count": 37,
   "metadata": {},
   "outputs": [],
   "source": [
    "# drop=['legal_ownership_status','count_families']\n",
    "# trainx=trainx.drop(drop,1)\n",
    "# test=test.drop(drop,1)\n",
    "from sklearn.ensemble import RandomForestClassifier as rc\n",
    "from sklearn.model_selection import train_test_split as tts\n",
    "trax,tesx,tray,tesy=tts(trainx,trainy,test_size=0.2)"
   ]
  },
  {
   "cell_type": "code",
   "execution_count": 13,
   "metadata": {},
   "outputs": [],
   "source": [
    "# new=pd.merge(train,bown)\n",
    "# print(new.head(5),new.describe(),train.describe())"
   ]
  },
  {
   "cell_type": "code",
   "execution_count": 14,
   "metadata": {},
   "outputs": [],
   "source": [
    "# print(bown.dtypes)"
   ]
  },
  {
   "cell_type": "code",
   "execution_count": 15,
   "metadata": {},
   "outputs": [],
   "source": [
    "# zz=['legal_ownership_status']\n",
    "# #print(bstruct[zz].head(5))\n",
    "# lsc={'Moderate slope':0,'Steep slope':1,'Flat':2}\n",
    "# fdt={'Mud mortar-Stone/Brick':0,'Cement-Stone/Brick':1,'Bamboo/Timber':2,'RC':3,'Other':4}\n",
    "# roof={'Bamboo/Timber-Light roof':0,'RCC/RB/RBC':1,'Bamboo/Timber-Heavy roof':2}\n",
    "# a=bstruct[['ground_floor_type']].groupby(['ground_floor_type']).groups.keys()\n",
    "# #for c,d in enumerate(a):\n",
    "# #    print(c,d)\n",
    "# #print(roof)\n",
    "# dictionary=[]\n",
    "# for col in zz:\n",
    "#     key=bown[[col]].groupby([col]).groups.keys()\n",
    "#     dctio={}\n",
    "#     for c,d in enumerate(key):\n",
    "#         dctio[d]=c\n",
    "#     dictionary.append(dctio)\n",
    "# print(dictionary)"
   ]
  },
  {
   "cell_type": "code",
   "execution_count": 24,
   "metadata": {},
   "outputs": [],
   "source": [
    "from sklearn.linear_model import LinearRegression as ln"
   ]
  },
  {
   "cell_type": "code",
   "execution_count": 36,
   "metadata": {},
   "outputs": [
    {
     "data": {
      "text/plain": [
       "(505408, 49)"
      ]
     },
     "execution_count": 36,
     "metadata": {},
     "output_type": "execute_result"
    }
   ],
   "source": [
    "trax.shape"
   ]
  },
  {
   "cell_type": "code",
   "execution_count": 39,
   "metadata": {},
   "outputs": [
    {
     "name": "stdout",
     "output_type": "stream",
     "text": [
      "0.9876536370327574\n"
     ]
    }
   ],
   "source": [
    "model=rc()\n",
    "model.fit(trainx,trainy)\n",
    "pred=model.predict(test)\n",
    "score=model.score(tesx,tesy)\n",
    "print(score)"
   ]
  },
  {
   "cell_type": "code",
   "execution_count": 40,
   "metadata": {},
   "outputs": [],
   "source": [
    "for i in range(0,len(pred)-1):\n",
    "    pred[i]='Grade '+str(pred[i])\n",
    "# print(score)\n",
    "my_submission = pd.DataFrame({'building_id': build, 'damage_grade': pred})\n",
    "# you could use any filename. We choose submission here\n",
    "my_submission.to_csv('submission.csv', index=False)"
   ]
  },
  {
   "cell_type": "code",
   "execution_count": 18,
   "metadata": {},
   "outputs": [],
   "source": [
    "# a=[2,'df4',5,6]\n",
    "# a[0]='grade'+str(a[0])\n",
    "# print(a)"
   ]
  },
  {
   "cell_type": "code",
   "execution_count": 29,
   "metadata": {},
   "outputs": [],
   "source": [
    "\n"
   ]
  },
  {
   "cell_type": "code",
   "execution_count": null,
   "metadata": {},
   "outputs": [],
   "source": []
  }
 ],
 "metadata": {
  "kernelspec": {
   "display_name": "Python 2",
   "language": "python",
   "name": "python2"
  },
  "language_info": {
   "codemirror_mode": {
    "name": "ipython",
    "version": 2
   },
   "file_extension": ".py",
   "mimetype": "text/x-python",
   "name": "python",
   "nbconvert_exporter": "python",
   "pygments_lexer": "ipython2",
   "version": "2.7.14"
  }
 },
 "nbformat": 4,
 "nbformat_minor": 2
}
